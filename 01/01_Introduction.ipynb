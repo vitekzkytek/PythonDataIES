{
 "cells": [
  {
   "cell_type": "markdown",
   "metadata": {
    "slideshow": {
     "slide_type": "slide"
    }
   },
   "source": [
    "## Lecture 1 \n",
    "by Martin Hronec <br>\n",
    "February 20-21 \n",
    "\n",
    "### Table of contents\n",
    "\n",
    "1. [Introduction](#introduction)\n",
    "2. [Jupyter (brief overview)](#jupyter)\n",
    "3. [(Ana)conda](#anaconda)\n",
    "4. [Version control and Git](#VCS)\n",
    "5. [GitHub](#github) <br>\n",
    "(mainly Git really)"
   ]
  },
  {
   "cell_type": "markdown",
   "metadata": {
    "slideshow": {
     "slide_type": "slide"
    }
   },
   "source": [
    "## Introduction <a name=\"introduction\"></a>\n",
    "\n",
    "”It was nice to learn Python; a nice afternoon”\n",
    "(Donald Knuth, 2012)\n",
    "\n",
    "<img src= \"https://imgs.xkcd.com/comics/python.png\" width= \"600\" height=\"400\">\n"
   ]
  },
  {
   "cell_type": "markdown",
   "metadata": {
    "slideshow": {
     "slide_type": "subslide"
    }
   },
   "source": [
    "**Useful materials for learning python:** <br>(Available on the course GitHub page)\n",
    "\n",
    "[List from the official Python site](https://wiki.python.org/moin/BeginnersGuide/Programmers)\n",
    "\n",
    "[Opinionated list of tutorials and guides](https://docs.python-guide.org/intro/learning/)\n",
    "\n",
    "And also some useful [code snippets](https://github.com/ActiveState/code/tree/master/recipes/Python) (not only Python)"
   ]
  },
  {
   "cell_type": "markdown",
   "metadata": {
    "slideshow": {
     "slide_type": "subslide"
    }
   },
   "source": [
    "### Running Python code\n",
    "* the most common ways to run Python code:\n",
    "    * the Python interpreter (can be IPython, where \"I\" stands for interactive)\n",
    "    * Python scripts (self-contained)\n",
    "    * the Jupyter notebook (you are currently looking at one)"
   ]
  },
  {
   "cell_type": "markdown",
   "metadata": {
    "slideshow": {
     "slide_type": "slide"
    }
   },
   "source": [
    "## Jupyter (brief overview) <a name=\"jupyter\"></a>\n",
    "* stands for JUlia, PYThon & eR\n",
    "* main components\n",
    "    * __notebooks (documents)__ are documents produced by the Jupyter Notebook App, which contain both computer code (e.g. python) and rich text elements (paragraph, equations, figures, links, etc.) as well as executable documents which can be run to perform data analysis.\n",
    "\n",
    "    * the __Jupyter Notebook__ (App) is a server-client application that allows editing and running notebook documents via a web browser\n",
    "        * can be executed on a local desktop requiring no internet access (as described in this document) or can be installed on a remote server and accessed through the internet\n",
    "        * has “Dashboard” (Notebook Dashboard), a “control panel” showing local files and allowing to open notebook documents or shutting down their __kernels__.\n",
    "    * __kernels__ is a “computational engine” that executes the code\n",
    "        * kernels from a lot of languages available, see [here](https://jupyter.readthedocs.io/en/latest/#kernels)\n",
    "* more details [here](https://jupyter-notebook.readthedocs.io/en/stable/notebook.html)\n"
   ]
  },
  {
   "cell_type": "markdown",
   "metadata": {
    "slideshow": {
     "slide_type": "slide"
    }
   },
   "source": [
    "## (Ana)conda <a name=\"anaconda\"></a>\n",
    "<img src= \"https://imgs.xkcd.com/comics/python_environment.png\" width= \"400\" height=\"400\">\n",
    "    "
   ]
  },
  {
   "cell_type": "markdown",
   "metadata": {
    "slideshow": {
     "slide_type": "slide"
    }
   },
   "source": [
    "* Anaconda Distribution is a free, easy-to-install  package manager, environment manager and Python distribution\n",
    "    * free\n",
    "    * has a collection of more than 1000 open source packages with free community support\n",
    "    * easy-to-install (...\"sobs and remembers the terror on the faces of his students and colleauges\") \n",
    "* Anaconda is a distribution. Conda is a (general-purpose, i.e. any type of software from any language) package manager.\n",
    "    * A __software distribution__ is a pre-buiilt and pre-configured collection of packages\n",
    "    * A __package manager__ is a tool that automates the process of installing, updating, and removing packages\n",
    "* Conda is designed to manage packages and dependencies within any software stack (even though it arose from withing the PyData community)\n",
    "    * *it's less like* [pip](https://pypi.org/project/pip/)(Pip Installs Packages - Python's officially-sanctioned package manager used to install packages published on the [Python Package Index (PyPi](https://pypi.org/))\n",
    "    * *and more like* a cross-platform version of [apt](https://en.wikipedia.org/wiki/APT_(Debian)) or [yum](https://en.wikipedia.org/wiki/Yum_(software)\n",
    "* Conda is 100% [open-source](https://github.com/conda/conda) , and Anaconda is nearly there as well\n",
    "* Conda allows you to to create separate environments containing files, packages and their dependencies that will not interact with other environments\n",
    "    * you already have a default environment named `base`\n",
    "\n",
    "* How did Conda come to life? Interesting story, you can read more [here](http://technicaldiscovery.blogspot.com/2013/12/why-i-promote-conda.html) from the original boss :))."
   ]
  },
  {
   "cell_type": "code",
   "execution_count": 1,
   "metadata": {
    "slideshow": {
     "slide_type": "subslide"
    }
   },
   "outputs": [
    {
     "name": "stdout",
     "output_type": "stream",
     "text": [
      "\n",
      "     active environment : base\n",
      "    active env location : C:\\Anaconda3\n",
      "            shell level : 1\n",
      "       user config file : C:\\Users\\Martin Hronec\\.condarc\n",
      " populated config files : C:\\Users\\Martin Hronec\\.condarc\n",
      "          conda version : 4.6.2\n",
      "    conda-build version : 3.17.6\n",
      "         python version : 3.7.1.final.0\n",
      "       base environment : C:\\Anaconda3  (writable)\n",
      "           channel URLs : https://repo.anaconda.com/pkgs/main/win-64\n",
      "                          https://repo.anaconda.com/pkgs/main/noarch\n",
      "                          https://repo.anaconda.com/pkgs/free/win-64\n",
      "                          https://repo.anaconda.com/pkgs/free/noarch\n",
      "                          https://repo.anaconda.com/pkgs/r/win-64\n",
      "                          https://repo.anaconda.com/pkgs/r/noarch\n",
      "                          https://repo.anaconda.com/pkgs/msys2/win-64\n",
      "                          https://repo.anaconda.com/pkgs/msys2/noarch\n",
      "          package cache : C:\\Anaconda3\\pkgs\n",
      "                          C:\\Users\\Martin Hronec\\.conda\\pkgs\n",
      "                          C:\\Users\\Martin Hronec\\AppData\\Local\\conda\\conda\\pkgs\n",
      "       envs directories : C:\\Anaconda3\\envs\n",
      "                          C:\\Users\\Martin Hronec\\.conda\\envs\n",
      "                          C:\\Users\\Martin Hronec\\AppData\\Local\\conda\\conda\\envs\n",
      "               platform : win-64\n",
      "             user-agent : conda/4.6.2 requests/2.21.0 CPython/3.7.1 Windows/10 Windows/10.0.17134\n",
      "          administrator : False\n",
      "             netrc file : None\n",
      "           offline mode : False\n",
      "\n"
     ]
    }
   ],
   "source": [
    "# verify that conda is installed + get additional info\n",
    "!conda info"
   ]
  },
  {
   "cell_type": "markdown",
   "metadata": {
    "slideshow": {
     "slide_type": "subslide"
    }
   },
   "source": [
    "* to create a new environment `conda create --name <environment name>`\n",
    "* to use, or “activate” the new environment, type `conda activate <environment name>`\n",
    "    * to activate the default (base) `conda activate`\n",
    "* to list all environments `conda info --envs`\n",
    "\n",
    "* to find a package you have already installed, first activate the environment you want to search\n",
    "* check to see if a package you have not installed is available from the Anaconda repository `conda search <package name>`\n",
    "* install package `conda install <package name>`\n",
    "* check all (conda) installed packages `conda list`"
   ]
  },
  {
   "cell_type": "markdown",
   "metadata": {
    "slideshow": {
     "slide_type": "slide"
    }
   },
   "source": [
    "## Version control <a name=\"VCS\"></a>\n",
    "\n",
    "* a version control system (VCS), tracks the history of changes in projects\n",
    "    * if a mistake is made, we can compare earlier versions of the code\n",
    "* many VCSs (Subversion, Perforce, Bazaar,etc.) exist, we focus on Git\n",
    "* crucial for teams\n",
    "    * changes made in one part of the software can be incompatible with those made by another developer working at the same time\n",
    "* the code for a project typically organized in a folder structure or \"file tree\"\n",
    "    * common \"naive\" alternative  with suffixes like \"_20180829\" or \"finally_final_last_3h_before_deadline\" \n",
    "* benefits:\n",
    "    * easy collaboration and conflict resolution\n",
    "    * a complete change history of every file\n",
    "    * reproducability\n",
    "    * traceability "
   ]
  },
  {
   "cell_type": "markdown",
   "metadata": {
    "slideshow": {
     "slide_type": "slide"
    }
   },
   "source": [
    "### Git\n",
    "\n",
    "* the most widely used modern version control system in the world\n",
    "* developed in 2005 by Linus Torvalds (Linux)\n",
    "* open sourced\n",
    "* a distributed architecture (Distributed VCS as opposed to \"centralized\") \n",
    "    * every developer's working copy of the code is also a repository that can contain the full history of all changes\n",
    "* works with it's data as a stream of snapshots\n",
    "* not fooled by the names of the files, instead focuses on the file content itself\n",
    "* most operations in Git are local\n",
    "* generally only adds data (safe to eperiment without the danger of severely screwing things up)\n",
    "* can be hard to learn"
   ]
  },
  {
   "cell_type": "markdown",
   "metadata": {
    "slideshow": {
     "slide_type": "subslide"
    }
   },
   "source": [
    "### Install Git\n",
    "Instructions [here](https://www.atlassian.com/git/tutorials/install-git) or [here](https://git-scm.com/book/en/v2/Getting-Started-Installing-Git).\n",
    "\n",
    "**Get help**\n",
    "* if you get stuck along Athe way: `git help <command>` or `man git-<command>` will give your the manual page for the commands <br>"
   ]
  },
  {
   "cell_type": "markdown",
   "metadata": {
    "slideshow": {
     "slide_type": "slide"
    }
   },
   "source": [
    "We will go over the whole (if we have enough time) process of managing project using Git. <br>\n",
    "This is more like a reference or guideline, that you (and I) can refer back to.\n",
    "\n",
    "## Set up a repository\n",
    "* repository (repo) is simply a storage of your project\n",
    "* Git stores the information about the project in the root directory of the repository in a directory called `.git`\n",
    "    * this is what differentiates project under *Git* from some other simple project.\n",
    "    * do not mess up manually with this file, it is expected to be organized in the way it is organized\n",
    "    \n",
    "* 2 common ways to set up a repository (repo) under Git:\n",
    "    * initializing a new repository: `git init <project directory>`\n",
    "    * cloning an existing repository: `git clone <repo url>`\n",
    "        * do not clone course GitHub repo directly, first fork it on GitHub with your account and then clone the forked repo\n",
    "        * look at the [GitHub paragraph](#github) at the end of the file"
   ]
  },
  {
   "cell_type": "markdown",
   "metadata": {
    "slideshow": {
     "slide_type": "subslide"
    }
   },
   "source": [
    "### git init\n",
    "\n",
    " * creates a new Git repository\n",
    "     * converts an existing (unversioned) project\n",
    "     * initiate a new empty repository \n",
    " * creates a `.git` subdirectory in the current working directory\n",
    "     * `.git` contains all of the necessary Git metadata\n",
    " * if `.git` exists already, `git init` will not override an existing `.git` configuration\n",
    " * some interesting options: \n",
    "     * `git init --bare <directory>`: bare repositories don't have a working tree attached to them, one needs to `push` into them\n",
    "     * `git init <directory> --template=<template_directory>`"
   ]
  },
  {
   "cell_type": "markdown",
   "metadata": {
    "slideshow": {
     "slide_type": "subslide"
    }
   },
   "source": [
    "### git clone\n",
    " * `git clone <repo> <directory>`\n",
    " * used to create a copy of an existing repository (generally a one-time operation)\n",
    " * dependent on `git init`, which it calls first\n",
    " * repo-to-repo collaboration: \n",
    "     * Git makes no distinction between the working copy and the central repository (both full-fledged repos)\n",
    "     * one repo can ofc special meaning, if we want to\n",
    " * cloning automatically creates a remote connection called \"origin\" pointing back to the original repository\n",
    " * Git URL protocols\n",
    "     * Hyper text transfer protocol (HTTP): the protocol of the web\n",
    "     * Secure Shell (SSH): an authenticated network protocol (common on most servers) \n",
    "     * GIT: unique to git\n",
    " "
   ]
  },
  {
   "cell_type": "markdown",
   "metadata": {
    "slideshow": {
     "slide_type": "subslide"
    }
   },
   "source": [
    "## Git configuration\n",
    "* first think you might want to do on any given computer is to check the settings using `git config --list`\n",
    "* `git config` lets you modify the configuration of Git\n",
    "   * local, global and system level\n",
    "   * corresponds to `.gitconfig` text files (or in `HOME` directory of user, OS specific though)\n",
    "   * configuration settings like email, username, and editor\n",
    "* each level overrides the previous level (local > global > system) \n",
    "* set up the basics:\n",
    "    * `git config --global user.name \"Jan Mrkvicka\"`\n",
    "    * `git config --global user.email \"janko.mrkvicka@fsv.cuni.cz\"`"
   ]
  },
  {
   "cell_type": "markdown",
   "metadata": {
    "slideshow": {
     "slide_type": "slide"
    }
   },
   "source": [
    "## Saving changes (snapshots)\n",
    "   * saving is more nuanced process than you are used to\n",
    "   * traditional \"saving\" means \"committing\" in Git terms\n",
    "   * to \"save\" a snapshot of current state, use combination of `git add`, `git status` and `git commit`\n",
    "   * `git add` and `git commit` are fundamental commands for the Git workflow\n",
    "       * `git add` (adds file to the reposiotry staging area) and `git commit -m \"changed something in the repo\"` (creates a new commit with a message escribing what work was done)\n",
    "   * `git reset` command is used to undo a commit or staged snapshot\n",
    "   * for a complete *collaborative* Git workflow `git push` is essential "
   ]
  },
  {
   "cell_type": "markdown",
   "metadata": {
    "slideshow": {
     "slide_type": "subslide"
    }
   },
   "source": [
    "### States of files\n",
    "* each file in the working directory is either *tracked* (Git knows about it) or *untracked*\n",
    "* [Graph](https://git-scm.com/book/en/v2/Git-Basics-Recording-Changes-to-the-Repository) with Untracked, Unmodified, Modified and Staged\n",
    "* `git status` checks in which state are the files are the working directory\n",
    "* *tracked files* can be in three Git states\n",
    "    * **commited**: stored in the local database\n",
    "    * **modified**: changed file but not commited to the database\n",
    "    * **staged**: a modified file which is marked to be part of the next commit (saved snapshot)\n",
    "* (cont. on the next slide)"
   ]
  },
  {
   "cell_type": "markdown",
   "metadata": {
    "slideshow": {
     "slide_type": "subslide"
    }
   },
   "source": [
    "### Three Trees\n",
    "* for the workflow of adding and retrieving commits, Git uses internal state management mechanism called *Three Trees* (even though they are more like node and pointer-based data structures)\n",
    "    * __Working Directory__: in sync with the local filesystem (represents immediate changes)\n",
    "    * __Staging Index__: tracks Working Directory changes, that have been promoted with `git add`, to be stored in the next commit\n",
    "        * to view the state of the staging index, use `git ls-files --stage`\n",
    "    * __HEAD__ (The Commmit Tree): the pointer to the current branch reference, which is in turn a pointer to the last commit made on that branch\n",
    "        * will be the parent of the next commit that is created.\n",
    "* look at *Three of Trees* [chart](https://git-scm.com/book/en/v2/Git-Tools-Reset-Demystified) and more details\n"
   ]
  },
  {
   "cell_type": "markdown",
   "metadata": {
    "slideshow": {
     "slide_type": "subslide"
    }
   },
   "source": [
    "### git add\n",
    " * adds a change in the working directory to the staging area\n",
    " * tells Git that you want to include updates to a particular file in the next commit\n",
    "     * however, changes are not actually recorded, only promoted to the git staging area, until you run `git commit`\n",
    " * the basic edit/stage/commit pattern\n",
    " \n",
    "**The staging area**\n",
    " * one ot the _Three Trees of Git_ (along with the working directory and HEAD)\n",
    " * instead of committing all of the changes, it lets you group related changes into focused snapshots before actually committing it\n",
    " * you can make all sorts of edits to unrelated files, then go back and split them up into logical commits by adding related changes to the stage and commit them piece-by-piece. \n",
    " * it’s important to create atomic commits so that it’s easy to track down bugs and revert changes with minimal impact on the rest of the project.\n",
    " "
   ]
  },
  {
   "cell_type": "markdown",
   "metadata": {
    "slideshow": {
     "slide_type": "subslide"
    }
   },
   "source": [
    "### .gitignore\n",
    " * every file in your working copy:\n",
    "     * tracked - staged or commited \n",
    "     * untracked - not staged or commited \n",
    "     * ignored - explicitly ignored\n",
    " * ignored files are often build artifacts (machine generated files), but in data-analysis it can be data itself (too large for traditional version control) or in our case `.ipynb_checkpoints`\n",
    " * _.gitignore_ file must be edited and commited by hand when we have new files we wish to ignore\n",
    " * _.gitignore_ uses globbing patterns to match against the file names\n",
    "    * `*.a` ignores all `.a` files\n",
    "    * `!lib.a` do track `lib.a` even though you're ignoring `.a` files \n",
    "    * `<directory>/` ignores all files in the <directory>\n",
    "    * etc\n",
    "     \n",
    " * you can choose to define multiple .gitignore files in different directories in your repository\n",
    " * you can force an ignored file to be committed to the repository with `git add -f <filename>`"
   ]
  },
  {
   "cell_type": "markdown",
   "metadata": {
    "slideshow": {
     "slide_type": "subslide"
    }
   },
   "source": [
    "### git diff\n",
    "\n",
    " * for comparing changes, i.e. input is 2 datasets and output are the changes between them\n",
    " * `git diff` is a multi-use Git command, i.e. can be used on commits, branches, files, etc.\n",
    " * by default `git diff` will show you any uncommited changes since the last commit\n",
    " * if you want to see what you’ve staged that will go into your next commit: `git diff --staged`"
   ]
  },
  {
   "cell_type": "markdown",
   "metadata": {
    "slideshow": {
     "slide_type": "subslide"
    }
   },
   "source": [
    "### git commit\n",
    " * `git commit` captures a snapshot of the project's currently staged changes\n",
    "     * it launches the editor (can be set using the `git config --global core.editor`)\n",
    "     * use `git commit -m \"message\"`\n",
    " * commits can be thought of as snapshots or milestones along the timeline of a Git project\n",
    " * always commited to the local repository\n",
    "     * Git doesn't force you to interact with the central repository until you're ready\n",
    " * Git records the entire contents of each file in every commit\n",
    "     * files not staged won't be commited\n",
    " * a common practice is to use the first line of the commit message as a subject line, similar to an email\n",
    "     * the rest of the log message should contain the details\n",
    " * the staging area can be skipped, use `git commit -a` (not recommended)\n",
    " * `git commit -m \"message\" --amend` allows you to modify the last commit\n",
    "     * simply change what you need, add it to the staging index and execute above command"
   ]
  },
  {
   "cell_type": "markdown",
   "metadata": {
    "slideshow": {
     "slide_type": "subslide"
    }
   },
   "source": [
    "### git stash (only if we have plenty of time)\n",
    " * `git stash` temporarily shelves (or stashes) changes you've made to your working copy (when not quite ready to commit)\n",
    "     * so you can work on something else, and then come back are re-apply them later on\n",
    " * stashes are local to your Git repository (not trasferred to the server when pushed\n",
    " * `git stash pop` reapplies stashed changes and removes the changes from your stash\n",
    " * `git stash apply` reapplies stashed changes and _keeps them in your stash_\n",
    " * by default Git won't stash changes made to untracked or ignored files!!! ( we need to run `git add` before or use `git stash -u`)\n",
    " * you can have multiple stashes, run `git stash list` to see them\n",
    " * `git stash save <\"message\">` annotates stashes with a description (good practice so we do not make a mess)\n",
    " * by defualt popping will re-apply the most recently created stash: `stash@{0}`\n",
    " * to stash the ignored file, use `git stash with the --all` to stash changes in ignored and untracked files as well"
   ]
  },
  {
   "cell_type": "markdown",
   "metadata": {
    "slideshow": {
     "slide_type": "slide"
    }
   },
   "source": [
    "## Inspecting a repository\n",
    " * again, think of Git as a timeline management utility\n",
    " * commits are snapshots of a points in the project's history\n",
    "* once you’ve built up a project history of commits, you can review and revisit any commit in the history\n",
    " * `git status` displays the state of the working directory and the staging area\n",
    " * `git log` displays committed snapshots (list of the project history)\n",
    "     *  `git log` will only show commits for the currently selected branch (all commits across all branches `git log ==branches=*` , `git branch` to view and visit other branches)\n",
    "     \n",
    "Additional interesting options:\n",
    " * `git blame` display author's metadata attached to specific committed lines in a file\n",
    " * `git tag`: ref's that point to specific points in Git history\n",
    "     * it is like a branch that doesn't change"
   ]
  },
  {
   "cell_type": "markdown",
   "metadata": {
    "slideshow": {
     "slide_type": "slide"
    }
   },
   "source": [
    "## Undoing Commits & Changes \n",
    "Git \"undo\" strategies and commands (though it does not have a traditional 'undo' system like you might be used to from the user-friendly stuff, you are using)\n",
    " \n",
    "**Unstaging a Staged File**\n",
    "* `git reset HEAD <file>`\n",
    "    * `git reset` can be a dangerous command, especially if you provide the `--hard` flag\n",
    "\n",
    "**Unmodifying a Modified File**\n",
    "* `git checkout -- <file>`\n",
    "    * `git checkout -- <file>` is dangerous since any local changes are gone\n",
    "\n",
    "* to see the history of commits, use `git log`\n",
    "    * each commit has a unique SHA-1 identifying hash\n",
    "    * to see the specific commit, use `git checkout`"
   ]
  },
  {
   "cell_type": "markdown",
   "metadata": {
    "slideshow": {
     "slide_type": "subslide"
    }
   },
   "source": [
    "### git checkout ( & git revert)\n",
    " * to visit the point in history, we can use `git checkout <specific commit>` to load the saved snapshot\n",
    "     * makes your working directory match the exact state of that particular commit from history \n",
    " * checking out a specific commit will put the repo in a \"detached HEAD\" state! (no longer working on any branch)\n",
    "     * everything you’re doing is “detached” from the rest of your project’s development\n",
    "     * any new commits will be orphaned, when we change branch back to an established one\n",
    "     * orphaned commits up for deletion by Git's garbage collector (every 30 days) \n",
    " * `git revert` instead of removing the commit from the project history, it fugures out how to invert the changes introduced by the commit and appends a new commit with the resulting inverse content\n",
    "     * other \"undo\" commands like `git checkout` or `git reset` move HEAD and branch ref pointers to a specified commit\n",
    "         * `git revert` does not move ref pointers to the old/specified commit\n",
    " * `git revert` undoes single commit, it does not remove all subsequent commits as a reset would\n",
    "     "
   ]
  },
  {
   "cell_type": "markdown",
   "metadata": {
    "slideshow": {
     "slide_type": "subslide"
    }
   },
   "source": [
    "### git reset\n",
    "* for undoing changes\n",
    "* three primary forms of invocation:\n",
    "    * `--soft`, `--mixed` and `--hard`\n",
    "    * `git reset` modifies the state of the three trees, three forms direct how the Staging Index and Working Directory will be modified\n",
    "        * `--mixed` (default): HEAD is the specified commit\n",
    "        * `--hard`: The Commit History (HEAD) ref pointers are updated to the specified commit and the Staging Index and Working Directory are reset to match that of the specified commit (!CANNOT BE UNDONE - permanent change)\n",
    "        * `--soft`: the ref pointers are updated (only the Commit History is changed) and the reset stops there, the Staging Index and the Working Directory are left untouched.\n"
   ]
  },
  {
   "cell_type": "markdown",
   "metadata": {
    "slideshow": {
     "slide_type": "subslide"
    }
   },
   "source": [
    "### git rm\n",
    "\n",
    " * `git rm` removes tracked files from the Git index (tell Git not to track a file any more)\n",
    "     * can also remove tracked files from the staging index and the working directory\n",
    "     * `git rm` does not remove branches\n",
    " * basically the inverse of the `git add` command\n",
    " * `-n`: dry run, `-f`: fprece \n",
    " * `git rm` is not a permanent update\n",
    "     * can be undone by `git reset HEAD` or `git checkout .`\n",
    " * `git rm` can be replicated with shell command `rm` but additional `git add` have to be executed on the removed file paths to add the changes to the staging index"
   ]
  },
  {
   "cell_type": "markdown",
   "metadata": {
    "slideshow": {
     "slide_type": "subslide"
    }
   },
   "source": [
    "### git clean\n",
    " * complementary to `git reset` and `git checkout` (which operate on previously added files to the Git tracking index)\n",
    " * `git clean` operates on untracked files\n",
    " * `git clean` is undo-able\n",
    "     * `git clean -n`: dry run, showing which files are going to be removed without actually removing them\n",
    "     * `git clean -f`: the actual deletion of untracked files\n",
    " "
   ]
  },
  {
   "cell_type": "markdown",
   "metadata": {
    "slideshow": {
     "slide_type": "slide"
    }
   },
   "source": [
    "## Rewriting history \n",
    "* how to rewrite and alter Git history!\n",
    "* Git's main job: make sure you never lose a commited change, but also to give you total control over your developmnet workflow\n",
    "* mechanisms for storing history and saving changes\n",
    " * `git commit --amend -m \"an updated commit message\"`\n",
    "     * when there is nothing staged, allows us to edit the previous commit's message without altering its snapshot\n",
    " * `git rebase` - combine a sequency of commits into a new base commit (literaly rewrite history)\n",
    "     * alternative is `merge`, which is always forward moving (as opposed ot the rebase)\n",
    " * `git reflog` - (reference logs) used to record updates applied to tips of branches and other commit references (allows you to go back to commits even though they are not referenced by any branch or tag)\n"
   ]
  },
  {
   "cell_type": "markdown",
   "metadata": {
    "slideshow": {
     "slide_type": "subslide"
    }
   },
   "source": [
    "### git rebase\n",
    "* the process of moving or combining a sequence of commits to a new base commit\n",
    "* one of two Git utilities that specializes in integrating changes from one branch into another\n",
    "    * other is `git merge`\n",
    "* primary reason for rebasing is to maintain a *linear project history*\n",
    "    * it is a common way to integrate upstream changes into your local repository\n",
    "        * pulling in upstream changes with `git merge` results in superfuous merge commit every time you want to see how the project has progressed\n",
    "        * rebasing is like saying \"I want to base my changes on what everybody has already done.\"\n",
    "* dont't rebase public history\n",
    "* CAVEAT: merge conflicts may become more frequent during a rebase workflow\n",
    "    * easily remedied by rebasing your branch frequently against master and making more frequent commits"
   ]
  },
  {
   "cell_type": "markdown",
   "metadata": {
    "slideshow": {
     "slide_type": "slide"
    }
   },
   "source": [
    "## Syncing (or working with Remotes)\n",
    "* to be able to collaborate on any Git project, you need to know how to manage your remote repositories\n",
    "* remember Git's distributed collaboration model\n",
    "* following commands are pieces of the broader syster which is responsible for syncing changes\n",
    "    * `git remote` - create, view, and delete connections to other repositories\n",
    "        * `git remote show <remote>` to see more info about a remote\n",
    "    * `git fetch` - downloads commits, files, and refs from a remote repository into your local repo (it doesn’t force you to actually merge the changes into your repository - Git isolates the fetched content from local content)\n",
    "        * fetched content has to be explicitly checked out using `git checkout`\n",
    "            * safe way to review commits before integrating them with your local repo\n",
    "        * Git stores all commits in the repository's `./.git/objects` directory, both remote and local branch commits, but separately\n",
    "        * safe alternative to `git pull`"
   ]
  },
  {
   "cell_type": "markdown",
   "metadata": {
    "slideshow": {
     "slide_type": "subslide"
    }
   },
   "source": [
    "### git push \n",
    "* used to upload local repository content to a remote repository\n",
    "* counterpart to `git fetch`, i.e. exports commits to remote branches\n",
    "* remote branches (where commits are exported to) are configured using the `git remote`\n",
    "* one component of many used in the overall Git \"syncing\" process\n",
    "* once changesets have been moved via a download/upload a `git merge` may be performed at the destination to integrate the changes  "
   ]
  },
  {
   "cell_type": "markdown",
   "metadata": {
    "slideshow": {
     "slide_type": "subslide"
    }
   },
   "source": [
    "### git pull\n",
    "* used to download content from a remote repository and immediately update the local repository to match that content\n",
    "* actually combination of `git fetch` followed by `git merge`\n",
    "    * a new merge commit will be created and HEAD updated to point at the new commit\n",
    "* pulling via rebase, i.e. `git pull --rebase <remote>`, to ensure a linear history by preventing unnecessary merge commits (like saying: \"I wanot to put my changes on top of what everybody else has done.\"\n",
    "\n",
    "* **pull request** is a request for someone else (typically the project maintainer) to pull a branch from your repository into their repository\n",
    "    * serves as a place for discussing the proposed feature\n",
    "    * can be done on GitHub (following these [steps](https://help.github.com/articles/creating-a-pull-request/))\n"
   ]
  },
  {
   "cell_type": "markdown",
   "metadata": {
    "slideshow": {
     "slide_type": "slide"
    }
   },
   "source": [
    "## Branches\n",
    "* a branch represents an independent line of development, i.e. you diverge from the main line of development \n",
    "* when you want to add a new feature or fix a bug—no matter how big or how small—you spawn a new branch to encapsulate your changes\n",
    "    * Git encourages workflows that branch and merge often\n",
    "* makes it harder for unstable code to get merged into the main code base\n",
    "* instead of copying files from directory to directory, Git stores a branch as a reference to a commit\n",
    "* when versioning, this should be an integral part of your everyday workflow\n",
    "* let's go over the nice [examples](https://git-scm.com/book/en/v2/Git-Branching-Basic-Branching-and-Merging) from the materials"
   ]
  },
  {
   "cell_type": "markdown",
   "metadata": {
    "slideshow": {
     "slide_type": "subslide"
    }
   },
   "source": [
    "### git branch \n",
    "* the `git branch` command lets you create, list, rename, and delete branches.\n",
    "* it doesn’t let you switch between branches or put a forked history back together again\n",
    "    * for this reason, `git branch` is tightly integrated with the `git checkout` and `git merge` commands\n",
    "* `git branch` - list all of the branches in your repository (`git branch --list`) \n",
    "* `git branch <branch>` - create a new branch called 'branch'\n",
    "    * `git branch -d <branch>` - force delete the specified branch \n",
    "* to start adding commits to a branch, you need to select it with `git checkout`, and then use the standard `git add` and `git commit` command\n",
    "* once you’ve finished working on a branch and have merged it into the main code base, you’re free to delete the branch without losing any history"
   ]
  },
  {
   "cell_type": "markdown",
   "metadata": {
    "slideshow": {
     "slide_type": "subslide"
    }
   },
   "source": [
    "### git checkout \n",
    "* the act of switching between different versions of a target entity (`git checkout` command lets you navigate between the  created branches)\n",
    "* operates over files, commits (as you've seen above) and branches\n",
    "* a way to select which line of development you’re working on\n",
    "* having a dedicated branch for each new feature (easy to try new experiments without the fear of destroying existing functionality)\n",
    "* in order to checkout a remote branch you have to first fetch the contents of the branch with `git fetch --all`\n",
    "* when a specific commit is checked out instead of a branch - _detached HEAD_ \n",
    "    * the `git checkout` command simply updates the HEAD to point to either the specified branch or commit. When it points to a branch, Git doesn't complain, but when you check out a commit, it switches into a “detached HEAD” state\n",
    "* The point is, your development should always take place on a branch—never on a detached HEAD. This makes sure you always have a reference to your new commits."
   ]
  },
  {
   "cell_type": "markdown",
   "metadata": {
    "slideshow": {
     "slide_type": "subslide"
    }
   },
   "source": [
    "### git merge\n",
    "* way of putting a forked history back together again.\n",
    "* `git merge` command lets you take the independent lines of development created by `git branch` and integrate them into a single branch\n",
    "* merge into the current branch (The current branch will be updated to reflect the merge, but the target branch will be completely unaffected)\n",
    "    * paired with `git checkout` for selecting the current branch and `git branch -d` for deleting the obsolete target branch\n",
    "* preparation of merge:\n",
    "    * execute `git status` to ensure that HEAD is pointing to the correct merge-receiving branch (if needed, execute `git checkout <receiving>` to switch to the receiving branch)\n",
    "    * make sure the receiving branch and the merging branch are up-to-date with the latest remote changes (`git fetch` to pull the latest remote commits\n",
    "    * once the fetch is completed ensure the master branch has the latest updates (`git pull`)\n",
    "* after preparation: `git merge <branch name>` where 'branch name' is the name of the branch that will be merged into the receiving branch\n",
    "* fast-forward merge possible in case of linear path to the target branch\n",
    "* when there is not a linear path to the target branch, Git has no choice but to combine them via a _3-way merge_\n",
    "    * a dedicated commit to tie together the two histories (Git uses three commits to generate the merge commit: the two branch tips and their common ancestor)\n",
    "* If the two branches you're trying to merge both changed the same part of the same file, Git won't be able to figure out which version to use => it stops right before the merge commit so that you can resolve the conflicts manually.\n",
    "    * When you encounter a merge conflict, running the git status command shows you which files need to be resolved"
   ]
  },
  {
   "cell_type": "markdown",
   "metadata": {
    "slideshow": {
     "slide_type": "subslide"
    }
   },
   "source": [
    "### Merge conflicts\n",
    "* VCS is allows collaboration and with it come conflicts\n",
    "    * multiple people working on the same feature\n",
    "* first step in preventing conflicts everywhere is using branches\n",
    "* conflicts happen when two people have changed the same lines in a file, or if someone deleted a file while another user was working on it\n",
    "* Git cannot automatically determine what is correct\n",
    "* conflicts only affect the developer conducting the merge (the rest of the team doesn't have to be bothered)\n",
    "* Git will flag the file as being conflicted and stop merging\n",
    "* it is then the developers' responsibility to resolve the conflict"
   ]
  },
  {
   "cell_type": "markdown",
   "metadata": {
    "slideshow": {
     "slide_type": "slide"
    }
   },
   "source": [
    "# Git Workflows\n",
    "* a recipe or recommendation for how to use Git to accomplish work in a consistent and productive manner\n",
    "* several publicized Git workflows that may be a good fit for your team\n",
    "    * Centralized Workflow\n",
    "    * Feature Branch Workflow\n",
    "    * Gitflow Workflow\n",
    "    * Forking Workflow\n",
    "* it’s important to make sure the team is all in agreement on how the flow of changes will be applied\n",
    "* workflows are designed to be guidelines rather than concrete rules\n",
    "* things to consider when evaluating a Git workflow:\n",
    "    * Does this workflow scale with team size?\n",
    "    * Is it easy to undo mistakes and errors with this workflow?\n",
    "    * Does this workflow impose any new unnecessary cognitive overhead to the team?\n",
    "* let's look at the simple __centralized workflow__ in the next slide"
   ]
  },
  {
   "cell_type": "markdown",
   "metadata": {
    "slideshow": {
     "slide_type": "slide"
    }
   },
   "source": [
    "## Centralized Workflow\n",
    "* 1st developer can push their changes back up with no problems. How about the 2nd developer?\n",
    "* 2nd developer must merge in the first one's work before pushing changes up\n",
    "* simple setup for the small team (closed-source, i.e. not accessible to the outside world)\n",
    "* nice example from the [materials](https://git-scm.com/book/en/v2/Distributed-Git-Contributing-to-a-Project)"
   ]
  },
  {
   "cell_type": "markdown",
   "metadata": {
    "slideshow": {
     "slide_type": "slide"
    }
   },
   "source": [
    "### GitHub <a name=\"github\"></a>\n",
    "* largest host for Git repositories\n",
    "    * alternatives: [Bitbucket](https://bitbucket.org/product), [GitLab](https://about.gitlab.com/), etc.\n",
    "* more details (including the setup) can be found [here](https://git-scm.com/book/en/v2/GitHub-Account-Setup-and-Configuration)\n",
    "* use the [GitHub Flow](https://guides.github.com/introduction/flow/) to work with the course repository (yes, we meant the feedback part seriously):\n",
    "    1. Fork the project.\n",
    "    2. Pull/fetch the forked project to your machine.\n",
    "    3. Create a branch (with your features) from `master.\n",
    "    4. Improve the project.\n",
    "    5. Push the branch with improvements to your GitHub project (the forked one).\n",
    "    6. Open a Pull Request.\n",
    "    7. Based on our review, your Pull Request will be merged or closed.\n",
    "* to keep up with the course materials, follow [this](https://help.github.com/articles/merging-an-upstream-repository-into-your-fork/)"
   ]
  },
  {
   "cell_type": "code",
   "execution_count": 2,
   "metadata": {
    "slideshow": {
     "slide_type": "slide"
    }
   },
   "outputs": [
    {
     "name": "stdout",
     "output_type": "stream",
     "text": [
      "Next week with Vít Macháček.\n"
     ]
    }
   ],
   "source": [
    "print(\"Next week with Vít Macháček.\")"
   ]
  }
 ],
 "metadata": {
  "celltoolbar": "Slideshow",
  "kernelspec": {
   "display_name": "Python 3",
   "language": "python",
   "name": "python3"
  },
  "language_info": {
   "codemirror_mode": {
    "name": "ipython",
    "version": 3
   },
   "file_extension": ".py",
   "mimetype": "text/x-python",
   "name": "python",
   "nbconvert_exporter": "python",
   "pygments_lexer": "ipython3",
   "version": "3.6.5"
  }
 },
 "nbformat": 4,
 "nbformat_minor": 2
}
