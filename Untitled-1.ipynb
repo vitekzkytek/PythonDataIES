{
 "cells": [
  {
   "cell_type": "code",
   "execution_count": 24,
   "metadata": {},
   "outputs": [
    {
     "name": "stdout",
     "output_type": "stream",
     "text": [
      "[1000, 3908]\n"
     ]
    }
   ],
   "source": [
    "nums = [1,2,6,9,1000,3908]\n",
    "target = 4908\n",
    "list = \"\"\n",
    "for i in nums:\n",
    "    if list != \"\":\n",
    "        break\n",
    "    for j in nums:\n",
    "        if i != j:\n",
    "            sum = i + j\n",
    "            if sum == target:\n",
    "                list = [i,j]\n",
    "                print(list)\n",
    "                break\n",
    "            else:\n",
    "                continue\n"
   ]
  },
  {
   "cell_type": "code",
   "execution_count": 11,
   "metadata": {},
   "outputs": [
    {
     "data": {
      "text/plain": [
       "[2, 4]"
      ]
     },
     "execution_count": 11,
     "metadata": {},
     "output_type": "execute_result"
    }
   ],
   "source": [
    "def sumaaa(čísla, target):\n",
    "    check = []\n",
    "    for i,y in enumerate(čísla):\n",
    "        if check:\n",
    "            break\n",
    "        for j, k in enumerate(čísla[i+1:]):\n",
    "            sum = y + k\n",
    "            if sum == target:\n",
    "                check = [i, i+j+1]\n",
    "                break\n",
    "    return check\n",
    "\n",
    "sumaaa([2,3,6,12,1], 7)"
   ]
  },
  {
   "cell_type": "code",
   "execution_count": null,
   "metadata": {},
   "outputs": [],
   "source": [
    "čísla = [-1, 0, 1, 2, -1, -4]\n",
    "for index1, i in enumerate(nums[:-2]):\n",
    "    for index2, j in enumerate(nums[index1 + 1:-1]):\n",
    "        for index3, k in enumerate(nums[index1 + index2 + 2:]):\n",
    "            print(i, j, k)\n"
   ]
  },
  {
   "cell_type": "code",
   "execution_count": 89,
   "metadata": {},
   "outputs": [
    {
     "data": {
      "text/plain": [
       "True"
      ]
     },
     "execution_count": 89,
     "metadata": {},
     "output_type": "execute_result"
    }
   ],
   "source": [
    "def jetamlist(list, sublist):\n",
    "    for i in list:\n",
    "            if sorted(i) == sorted(sublist):\n",
    "                return True\n",
    "                break\n",
    "    return False\n",
    "\n",
    "jetamlist([[3,5],[4,3]], [3,4])"
   ]
  },
  {
   "cell_type": "code",
   "execution_count": 1,
   "metadata": {},
   "outputs": [
    {
     "ename": "NameError",
     "evalue": "name 'List' is not defined",
     "output_type": "error",
     "traceback": [
      "\u001b[1;31m---------------------------------------------------------------------------\u001b[0m",
      "\u001b[1;31mNameError\u001b[0m                                 Traceback (most recent call last)",
      "\u001b[1;32mdeeesch\\PythonDataIES\\Untitled-1.ipynb Cell 4\u001b[0m line \u001b[0;36m4\n\u001b[0;32m      <a href='vscode-notebook-cell://github%2B7b2276223a312c22726566223a7b2274797065223a342c226964223a22706f6b75732d6e612d6272616e6368227d7d/deeesch/PythonDataIES/Untitled-1.ipynb#W3sdnNjb2RlLXZmcw%3D%3D?line=0'>1</a>\u001b[0m nums \u001b[39m=\u001b[39m [\u001b[39m-\u001b[39m\u001b[39m1\u001b[39m,\u001b[39m0\u001b[39m,\u001b[39m1\u001b[39m,\u001b[39m2\u001b[39m,\u001b[39m-\u001b[39m\u001b[39m1\u001b[39m,\u001b[39m-\u001b[39m\u001b[39m4\u001b[39m]\n\u001b[0;32m      <a href='vscode-notebook-cell://github%2B7b2276223a312c22726566223a7b2274797065223a342c226964223a22706f6b75732d6e612d6272616e6368227d7d/deeesch/PythonDataIES/Untitled-1.ipynb#W3sdnNjb2RlLXZmcw%3D%3D?line=1'>2</a>\u001b[0m result \u001b[39m=\u001b[39m []\n\u001b[1;32m----> <a href='vscode-notebook-cell://github%2B7b2276223a312c22726566223a7b2274797065223a342c226964223a22706f6b75732d6e612d6272616e6368227d7d/deeesch/PythonDataIES/Untitled-1.ipynb#W3sdnNjb2RlLXZmcw%3D%3D?line=3'>4</a>\u001b[0m \u001b[39mclass\u001b[39;00m \u001b[39mSolution\u001b[39;00m:\n\u001b[0;32m      <a href='vscode-notebook-cell://github%2B7b2276223a312c22726566223a7b2274797065223a342c226964223a22706f6b75732d6e612d6272616e6368227d7d/deeesch/PythonDataIES/Untitled-1.ipynb#W3sdnNjb2RlLXZmcw%3D%3D?line=4'>5</a>\u001b[0m     \u001b[39mdef\u001b[39;00m \u001b[39mthreeSum\u001b[39m(\u001b[39mself\u001b[39m, nums: List[\u001b[39mint\u001b[39m]) \u001b[39m-\u001b[39m\u001b[39m>\u001b[39m List[List[\u001b[39mint\u001b[39m]]:\n\u001b[0;32m      <a href='vscode-notebook-cell://github%2B7b2276223a312c22726566223a7b2274797065223a342c226964223a22706f6b75732d6e612d6272616e6368227d7d/deeesch/PythonDataIES/Untitled-1.ipynb#W3sdnNjb2RlLXZmcw%3D%3D?line=5'>6</a>\u001b[0m         result \u001b[39m=\u001b[39m []\n",
      "\u001b[1;32mdeeesch\\PythonDataIES\\Untitled-1.ipynb Cell 4\u001b[0m line \u001b[0;36m5\n\u001b[0;32m      <a href='vscode-notebook-cell://github%2B7b2276223a312c22726566223a7b2274797065223a342c226964223a22706f6b75732d6e612d6272616e6368227d7d/deeesch/PythonDataIES/Untitled-1.ipynb#W3sdnNjb2RlLXZmcw%3D%3D?line=3'>4</a>\u001b[0m \u001b[39mclass\u001b[39;00m \u001b[39mSolution\u001b[39;00m:\n\u001b[1;32m----> <a href='vscode-notebook-cell://github%2B7b2276223a312c22726566223a7b2274797065223a342c226964223a22706f6b75732d6e612d6272616e6368227d7d/deeesch/PythonDataIES/Untitled-1.ipynb#W3sdnNjb2RlLXZmcw%3D%3D?line=4'>5</a>\u001b[0m     \u001b[39mdef\u001b[39;00m \u001b[39mthreeSum\u001b[39m(\u001b[39mself\u001b[39m, nums: List[\u001b[39mint\u001b[39m]) \u001b[39m-\u001b[39m\u001b[39m>\u001b[39m List[List[\u001b[39mint\u001b[39m]]:\n\u001b[0;32m      <a href='vscode-notebook-cell://github%2B7b2276223a312c22726566223a7b2274797065223a342c226964223a22706f6b75732d6e612d6272616e6368227d7d/deeesch/PythonDataIES/Untitled-1.ipynb#W3sdnNjb2RlLXZmcw%3D%3D?line=5'>6</a>\u001b[0m         result \u001b[39m=\u001b[39m []\n\u001b[0;32m      <a href='vscode-notebook-cell://github%2B7b2276223a312c22726566223a7b2274797065223a342c226964223a22706f6b75732d6e612d6272616e6368227d7d/deeesch/PythonDataIES/Untitled-1.ipynb#W3sdnNjb2RlLXZmcw%3D%3D?line=6'>7</a>\u001b[0m         \u001b[39mdef\u001b[39;00m \u001b[39mjetamlist\u001b[39m(\u001b[39mlist\u001b[39m, sublist):\n",
      "\u001b[1;31mNameError\u001b[0m: name 'List' is not defined"
     ]
    }
   ],
   "source": [
    "nums = [-1,0,1,2,-1,-4]\n",
    "result = []\n",
    "\n",
    "class Solution:\n",
    "    def threeSum(self, čísla: List[int]) -> List[List[int]]:\n",
    "        result = []\n",
    "        def jetamlist(list, sublist):\n",
    "            for i in list:\n",
    "                    if sorted(i) == sorted(sublist):\n",
    "                        return True\n",
    "                        break\n",
    "            return False\n",
    "        for index1, i in enumerate(nums[:-2]):\n",
    "            for index2, j in enumerate(nums[index1 + 1:-1]):\n",
    "                for index3, k in enumerate(nums[index1 + index2 +2:]):\n",
    "                    if (i + j + k == 0):\n",
    "                        if (jetamlist(result, [i,j,k])==False):\n",
    "                            result.append([i,j,k])\n",
    "        return result\n",
    "\n",
    "#return result\n"
   ]
  },
  {
   "cell_type": "code",
   "execution_count": 77,
   "metadata": {},
   "outputs": [
    {
     "data": {
      "text/plain": [
       "True"
      ]
     },
     "execution_count": 77,
     "metadata": {},
     "output_type": "execute_result"
    }
   ],
   "source": [
    "def odlistovani(list, sublist):\n",
    "    for i in list:\n",
    "            if sorted(i) == sorted(sublist):\n",
    "                return True\n",
    "\n",
    "odlistovani([[-1, 0, 1], [-1, 2, -1], [0, 1, -1]], [2,-1,-1])\n",
    "\n"
   ]
  },
  {
   "cell_type": "code",
   "execution_count": 100,
   "metadata": {},
   "outputs": [
    {
     "data": {
      "text/plain": [
       "[[-1, -1, 2], [-1, 0, 1], [-4, 2, 2]]"
      ]
     },
     "execution_count": 100,
     "metadata": {},
     "output_type": "execute_result"
    }
   ],
   "source": [
    "numbers = [-1,0,1,2,-1,-4]\n",
    "def sum_3(list_of_numbers):\n",
    "    answer = []\n",
    "    def sum_2(nums, target2):\n",
    "        slovnik = {}\n",
    "        seznam = []\n",
    "        for i in range(len(nums)):\n",
    "            diff = target2 - nums[i]\n",
    "            if diff in slovnik:\n",
    "                seznam = [slovnik[diff],nums[i]]\n",
    "            else:\n",
    "                slovnik[nums[i]] = nums[i]\n",
    "        return seznam\n",
    "    for target in range(len(nums)):\n",
    "        dvojčíslí = sorted(sum_2(nums = list_of_numbers, target2= -nums[target]))\n",
    "        if dvojčíslí != []:\n",
    "            dvojčíslí.append(nums[target])\n",
    "            if not(sorted(dvojčíslí) in answer):\n",
    "                answer.append(sorted(dvojčíslí))\n",
    "    return answer\n",
    "sum_3(list_of_numbers = numbers)"
   ]
  },
  {
   "cell_type": "code",
   "execution_count": 132,
   "metadata": {},
   "outputs": [
    {
     "data": {
      "text/plain": [
       "[[-1, 0, 1], [-1, -1, 2]]"
      ]
     },
     "execution_count": 132,
     "metadata": {},
     "output_type": "execute_result"
    }
   ],
   "source": [
    "numbers = [-1,0,1,2,-1,-4]\n",
    "def sum_3(list_of_numbers):\n",
    "    answer = []\n",
    "    def sum_2(nums, target2, pozice):\n",
    "        slovnik = {}\n",
    "        seznam = []\n",
    "        for i in range(len(nums)):\n",
    "            if i != pozice:\n",
    "                diff = target2 - nums[i]\n",
    "                if diff in slovnik:\n",
    "                    seznam = [slovnik[diff],nums[i]]\n",
    "                else:\n",
    "                    slovnik[nums[i]] = nums[i]\n",
    "            else:\n",
    "                break\n",
    "        return seznam\n",
    "    for target in range(len(nums)):\n",
    "        dvojčíslí = sorted(sum_2(nums = list_of_numbers, target2= -nums[target], pozice = target))\n",
    "        if dvojčíslí != []:\n",
    "            dvojčíslí.append(nums[target])\n",
    "            if not(sorted(dvojčíslí) in answer):\n",
    "                answer.append(sorted(dvojčíslí))\n",
    "    return answer\n",
    "sum_3(list_of_numbers = numbers)"
   ]
  },
  {
   "cell_type": "code",
   "execution_count": 11,
   "metadata": {},
   "outputs": [
    {
     "data": {
      "text/plain": [
       "[[-1, 0, 1], [-3, 1, 2], [-4, 1, 3], [-4, 0, 4]]"
      ]
     },
     "execution_count": 11,
     "metadata": {},
     "output_type": "execute_result"
    }
   ],
   "source": [
    "numbers = [-1,0,1,2,-1,-4,-2,-3,3,0,4]\n",
    "def sum_3(list_of_numbers):\n",
    "    list_of_numbers = sorted(list_of_numbers)\n",
    "    answer = []\n",
    "    def sum_2(nums, target2, pozice):\n",
    "        slovnik = {}\n",
    "        seznam = []\n",
    "        for i in range(len(nums)):\n",
    "            if i != pozice:\n",
    "                diff = target2 - nums[i]\n",
    "                if diff in slovnik:\n",
    "                    seznam = [slovnik[diff],nums[i]]\n",
    "                else:\n",
    "                    slovnik[nums[i]] = nums[i]\n",
    "            else:\n",
    "                break\n",
    "        return seznam\n",
    "    for target in range(len(list_of_numbers)):\n",
    "        dvojčíslí = (sum_2(nums = list_of_numbers, target2= -list_of_numbers[target], pozice = target))\n",
    "        if dvojčíslí != []:\n",
    "            dvojčíslí.append(list_of_numbers[target])\n",
    "            if not((dvojčíslí) in answer):\n",
    "                answer.append((dvojčíslí))\n",
    "    return answer\n",
    "sum_3(list_of_numbers = numbers)\n"
   ]
  },
  {
   "cell_type": "code",
   "execution_count": 20,
   "metadata": {},
   "outputs": [
    {
     "name": "stdout",
     "output_type": "stream",
     "text": [
      "[[-4, 1, 3], [-4, 0, 4], [-3, 1, 2], [-3, 0, 3], [-3, -1, 4], [-2, 0, 2], [-2, -1, 3], [-1, 0, 1], [-1, -1, 2]]\n"
     ]
    }
   ],
   "source": [
    "def sum_3(list_of_numbers):\n",
    "    list_of_numbers = sorted(list_of_numbers)\n",
    "    answer = []\n",
    "    for target in range(len(list_of_numbers)):\n",
    "        # Use a set to keep track of visited numbers\n",
    "        visited = set()\n",
    "        dvojčíslí = []\n",
    "        for i in range(len(list_of_numbers)):\n",
    "            if i != target:\n",
    "                diff = -list_of_numbers[target] - list_of_numbers[i]\n",
    "                if diff in visited:\n",
    "                    dvojčíslí = [list_of_numbers[i], diff, list_of_numbers[target]]\n",
    "                    if not (sorted(dvojčíslí) in sorted(answer)):\n",
    "                        answer.append(sorted(dvojčíslí))\n",
    "                visited.add(list_of_numbers[i])\n",
    "    \n",
    "    return answer\n",
    "\n",
    "numbers = [-1, 0, 1, 2, -1, -4, -2, -3, 3, 0, 4]\n",
    "result = sum_3(numbers)\n",
    "print(result)"
   ]
  },
  {
   "cell_type": "code",
   "execution_count": null,
   "metadata": {},
   "outputs": [
    {
     "data": {
      "text/plain": [
       "[4, 5]"
      ]
     },
     "execution_count": 66,
     "metadata": {},
     "output_type": "execute_result"
    }
   ],
   "source": [
    "from typing import List\n",
    "class Solution:\n",
    "    def twoSum(self, nums: List[int], target: int) -> List[int]:\n",
    "        check = []\n",
    "        for i,y in enumerate(nums):\n",
    "            if check:\n",
    "                break\n",
    "            for j, k in enumerate(nums):\n",
    "                if i != j:\n",
    "                    sum = y + k\n",
    "                    if sum == target:\n",
    "                        check = [i, j]\n",
    "                        break\n",
    "        return check\n",
    "solution = Solution()\n",
    "solution.twoSum([1,2,6,9,1000,3908],4908)\n"
   ]
  },
  {
   "cell_type": "code",
   "execution_count": 144,
   "metadata": {},
   "outputs": [
    {
     "name": "stdout",
     "output_type": "stream",
     "text": [
      "{-1: 0, 0: -1, 1: -1, 2: -3, 3: 0, 4: -2, 5: -10}\n"
     ]
    }
   ],
   "source": [
    "dictio = {-1: 0, 0: 1, 1: 2}\n",
    "for i in range(len(numbers)):\n",
    "    dictio[i] = numbers[i] - i\n",
    "print(dictio)"
   ]
  },
  {
   "cell_type": "code",
   "execution_count": null,
   "metadata": {},
   "outputs": [
    {
     "name": "stdout",
     "output_type": "stream",
     "text": [
      "[{1: 90}]\n"
     ]
    },
    {
     "data": {
      "text/plain": [
       "{2: 9, 4: 1, 5: -10}"
      ]
     },
     "execution_count": 26,
     "metadata": {},
     "output_type": "execute_result"
    }
   ],
   "source": [
    "mydict = {}\n",
    "nums = [1,3,3,9]\n",
    "def in_dict(vector, dictionary):\n",
    "    for index, hodnota in enumerate(vector):\n",
    "        dictionary[index] = hodnota\n",
    "    return dictionary\n",
    "in_dict(vector=nums, dictionary= mydict)\n",
    "\n",
    "#for index1, number1 in enumerate(nums):\n",
    "#    for index2, number2 in enumerate(nums):\n",
    " #       for index3, number3 in enumerate(nums):\n",
    "  #          sum = number1+number2+number3\n",
    "   #         print(sum)\n",
    "\n",
    "def součet(number1, number2, number3, index1, index2, index3):\n",
    "    sum = number1+number2+number3\n",
    "    if (sum == 0):\n",
    "        mydict = {index1:number1, index2:number2, index3:number3}\n",
    "        return mydict\n",
    "\n",
    "def add_dict(value,list_of_dict):\n",
    "    list_of_dict.append(value)\n",
    "my_dict = {1:90}\n",
    "list_of_dict = []\n",
    "add_dict(my_dict, list_of_dict)\n",
    "print(list_of_dict)\n",
    "#return in_dict(vector=nums, dictionary= mydict)\n",
    "\n",
    "součet(9,1,-10, 2,4,5)\n"
   ]
  },
  {
   "cell_type": "code",
   "execution_count": null,
   "metadata": {},
   "outputs": [
    {
     "name": "stdout",
     "output_type": "stream",
     "text": [
      "5 + 8 + 9 = 22\n",
      "2 + 3 + 9 = 14\n",
      "4 + 7 + 8 = 19\n",
      "2 + 5 + 9 = 16\n",
      "5 + 7 + 8 = 20\n",
      "6 + 8 + 9 = 23\n",
      "1 + 3 + 7 = 11\n",
      "1 + 5 + 7 = 13\n",
      "2 + 3 + 5 = 10\n",
      "5 + 7 + 9 = 21\n",
      "1 + 8 + 9 = 18\n",
      "2 + 6 + 7 = 15\n",
      "4 + 7 + 9 = 20\n",
      "5 + 6 + 7 = 18\n",
      "7 + 8 + 9 = 24\n",
      "1 + 4 + 6 = 11\n",
      "2 + 4 + 9 = 15\n",
      "1 + 4 + 7 = 12\n",
      "2 + 3 + 8 = 13\n",
      "1 + 6 + 7 = 14\n",
      "2 + 4 + 5 = 11\n",
      "3 + 5 + 6 = 14\n",
      "2 + 5 + 8 = 15\n",
      "3 + 6 + 9 = 18\n",
      "1 + 7 + 8 = 16\n",
      "2 + 6 + 9 = 17\n",
      "2 + 8 + 9 = 19\n",
      "1 + 4 + 8 = 13\n",
      "1 + 6 + 8 = 15\n",
      "2 + 4 + 6 = 12\n",
      "3 + 5 + 7 = 15\n",
      "6 + 7 + 8 = 21\n",
      "1 + 4 + 9 = 14\n",
      "1 + 6 + 9 = 16\n",
      "2 + 4 + 7 = 13\n",
      "3 + 5 + 8 = 16\n",
      "1 + 2 + 3 = 6\n",
      "1 + 4 + 5 = 10\n",
      "4 + 6 + 8 = 18\n",
      "2 + 6 + 8 = 16\n",
      "4 + 5 + 8 = 17\n",
      "1 + 2 + 4 = 7\n",
      "5 + 6 + 8 = 19\n",
      "3 + 4 + 8 = 15\n",
      "4 + 5 + 9 = 18\n",
      "5 + 6 + 9 = 20\n",
      "1 + 7 + 9 = 17\n",
      "3 + 4 + 9 = 16\n",
      "3 + 4 + 5 = 12\n",
      "1 + 2 + 6 = 9\n",
      "4 + 5 + 6 = 15\n",
      "2 + 7 + 8 = 17\n",
      "1 + 2 + 7 = 10\n",
      "1 + 3 + 8 = 12\n",
      "1 + 5 + 8 = 14\n",
      "1 + 3 + 4 = 8\n",
      "1 + 2 + 8 = 11\n",
      "2 + 4 + 8 = 14\n",
      "3 + 4 + 6 = 13\n",
      "3 + 5 + 9 = 17\n",
      "4 + 5 + 7 = 16\n",
      "2 + 7 + 9 = 18\n",
      "4 + 6 + 9 = 19\n",
      "3 + 4 + 7 = 14\n",
      "4 + 8 + 9 = 21\n",
      "1 + 2 + 9 = 12\n",
      "3 + 7 + 9 = 19\n",
      "1 + 2 + 5 = 8\n",
      "1 + 3 + 6 = 10\n",
      "1 + 5 + 6 = 12\n",
      "2 + 3 + 4 = 9\n",
      "2 + 3 + 6 = 11\n",
      "2 + 5 + 6 = 13\n",
      "3 + 6 + 7 = 16\n",
      "3 + 8 + 9 = 20\n",
      "4 + 6 + 7 = 17\n",
      "6 + 7 + 9 = 22\n",
      "1 + 3 + 9 = 13\n",
      "1 + 5 + 9 = 15\n",
      "2 + 3 + 7 = 12\n",
      "2 + 5 + 7 = 14\n",
      "3 + 6 + 8 = 17\n",
      "1 + 3 + 5 = 9\n",
      "3 + 7 + 8 = 18\n"
     ]
    }
   ],
   "source": [
    "numbers = [1, 2, 3, 4, 5, 6, 7, 8, 9]  # Replace this with your list of numbers\n",
    "\n",
    "result = set()  # Use a set to store unique combinations of sums\n",
    "\n",
    "for i in range(len(numbers)):\n",
    "    for j in range(i + 1, len(numbers)):\n",
    "        for k in range(j + 1, len(numbers)):\n",
    "            sum_of_three = numbers[i] + numbers[j] + numbers[k]\n",
    "            result.add((numbers[i], numbers[j], numbers[k], sum_of_three))\n",
    "\n",
    "\n",
    "\n",
    "\n",
    "# Now 'result' contains unique combinations of three numbers and their sum\n",
    "for combination in result:\n",
    "    num1, num2, num3, total = combination\n",
    "    print(f\"{num1} + {num2} + {num3} = {total}\")\n"
   ]
  },
  {
   "cell_type": "code",
   "execution_count": null,
   "metadata": {},
   "outputs": [],
   "source": []
  },
  {
   "cell_type": "code",
   "execution_count": null,
   "metadata": {},
   "outputs": [],
   "source": [
    "\n",
    "check = []\n",
    "for i in nums:\n",
    "    if check:\n",
    "        break\n",
    "    for j in nums:\n",
    "        if i != j:\n",
    "            sum = i + j\n",
    "            if sum == target:\n",
    "                check = [i,j]\n",
    "                break\n",
    "return check"
   ]
  }
 ],
 "metadata": {
  "kernelspec": {
   "display_name": "Python 3",
   "language": "python",
   "name": "python3"
  },
  "language_info": {
   "codemirror_mode": {
    "name": "ipython",
    "version": 3
   },
   "file_extension": ".py",
   "mimetype": "text/x-python",
   "name": "python",
   "nbconvert_exporter": "python",
   "pygments_lexer": "ipython3",
   "version": "3.11.5"
  }
 },
 "nbformat": 4,
 "nbformat_minor": 2
}
