{
 "cells": [
  {
   "cell_type": "code",
   "execution_count": 10,
   "metadata": {},
   "outputs": [],
   "source": [
    "# Base Installations\n",
    "import sys\n",
    "import pandas as pd\n",
    "import numpy as np \n",
    "import matplotlib.pyplot as plt\n",
    "import time"
   ]
  },
  {
   "cell_type": "code",
   "execution_count": 31,
   "metadata": {},
   "outputs": [
    {
     "data": {
      "text/plain": [
       "<bound method NDFrame.head of             Date       High        Low       Open      Close     Volume  \\\n",
       "0     2017-11-13  99.169998  94.750000  94.750000  96.830002  5587900.0   \n",
       "1     2017-11-14  97.300003  95.639999  96.220001  95.980003  2382800.0   \n",
       "2     2017-11-15  95.889999  94.019997  95.599998  94.750000  1424400.0   \n",
       "3     2017-11-16  96.339996  93.500000  93.910004  95.900002   967300.0   \n",
       "4     2017-11-17  96.900002  95.699997  96.070000  95.889999  1080800.0   \n",
       "...          ...        ...        ...        ...        ...        ...   \n",
       "1254  2022-11-07  63.000000  61.910000  62.669998  62.419998  1408800.0   \n",
       "1255  2022-11-08  63.150002  60.910000  62.560001  61.389999  1382800.0   \n",
       "1256  2022-11-09  61.090000  57.580002  60.930000  57.959999  1631800.0   \n",
       "1257  2022-11-10  60.410000  59.470001  59.660000  60.389999  2082000.0   \n",
       "1258  2022-11-11  63.540001  60.520000  60.740002  63.410000  1359700.0   \n",
       "\n",
       "      Adj Close  \n",
       "0     87.014221  \n",
       "1     86.250381  \n",
       "2     85.145065  \n",
       "3     86.178490  \n",
       "4     86.169495  \n",
       "...         ...  \n",
       "1254  62.419998  \n",
       "1255  61.389999  \n",
       "1256  57.959999  \n",
       "1257  60.389999  \n",
       "1258  63.410000  \n",
       "\n",
       "[1259 rows x 7 columns]>"
      ]
     },
     "execution_count": 31,
     "metadata": {},
     "output_type": "execute_result"
    }
   ],
   "source": [
    "# Load Data\n",
    "has = pd.read_csv(r'C:\\Users\\bruch\\Desktop\\data\\HAS.csv')\n",
    "lnc = pd.read_csv(r'C:\\Users\\bruch\\Desktop\\data\\LNC.csv')\n",
    "mar = pd.read_csv(r'C:\\Users\\bruch\\Desktop\\data\\MAR.csv')\n",
    "tsla = pd.read_csv(r'C:\\Users\\bruch\\Desktop\\data\\TSLA.csv')\n",
    "ups = pd.read_csv(r'C:\\Users\\bruch\\Desktop\\data\\UPS.csv')\n",
    "has.head # Checking that the data loaded + Basic understanding about what the data"
   ]
  },
  {
   "cell_type": "code",
   "execution_count": 30,
   "metadata": {},
   "outputs": [
    {
     "data": {
      "text/plain": [
       "False"
      ]
     },
     "execution_count": 30,
     "metadata": {},
     "output_type": "execute_result"
    }
   ],
   "source": [
    "equal_has = has['Close']==has['Adj Close']\n",
    "equal_has.all()"
   ]
  },
  {
   "cell_type": "code",
   "execution_count": 28,
   "metadata": {},
   "outputs": [
    {
     "data": {
      "text/plain": [
       "False"
      ]
     },
     "execution_count": 28,
     "metadata": {},
     "output_type": "execute_result"
    }
   ],
   "source": [
    "equal_lnc = lnc['Close']==lnc['Adj Close']\n",
    "equal_has.all()"
   ]
  },
  {
   "cell_type": "code",
   "execution_count": 25,
   "metadata": {},
   "outputs": [
    {
     "data": {
      "text/plain": [
       "False"
      ]
     },
     "execution_count": 25,
     "metadata": {},
     "output_type": "execute_result"
    }
   ],
   "source": [
    "equal_mar = mar['Close']==mar['Adj Close']\n",
    "equal_mar.all()"
   ]
  },
  {
   "cell_type": "code",
   "execution_count": 24,
   "metadata": {},
   "outputs": [
    {
     "data": {
      "text/plain": [
       "True"
      ]
     },
     "execution_count": 24,
     "metadata": {},
     "output_type": "execute_result"
    }
   ],
   "source": [
    "equal_tsla = tsla['Close']==tsla['Adj Close']\n",
    "equal_tsla.all()"
   ]
  },
  {
   "cell_type": "code",
   "execution_count": 29,
   "metadata": {},
   "outputs": [
    {
     "data": {
      "text/plain": [
       "False"
      ]
     },
     "execution_count": 29,
     "metadata": {},
     "output_type": "execute_result"
    }
   ],
   "source": [
    "equal_ups = ups['Close']==ups['Adj Close']\n",
    "equal_ups.all()"
   ]
  },
  {
   "cell_type": "code",
   "execution_count": null,
   "metadata": {},
   "outputs": [],
   "source": [
    "#1. Only in TSLA there is no difference between the Close and the Adj Close columns."
   ]
  },
  {
   "cell_type": "code",
   "execution_count": 50,
   "metadata": {},
   "outputs": [
    {
     "name": "stdout",
     "output_type": "stream",
     "text": [
      "Highest price on Adj Close for has is : 117.93807983398438\n",
      "Lowest price on Adj Close for has is : 42.64298629760742\n",
      "Highest price on Adj Close for lnc is : 75.65805053710938\n",
      "Lowest price on Adj Close for lnc is : 15.741825103759766\n",
      "Highest price on Adj Close for mar is : 190.3000030517578\n",
      "Lowest price on Adj Close for mar is : 59.08000183105469\n",
      "Highest price on Adj Close for tsla is : 409.9700012207031\n",
      "Lowest price on Adj Close for tsla is : 11.9313325881958\n",
      "Highest price on Adj Close for ups is : 230.4356231689453\n",
      "Lowest price on Adj Close for ups is : 81.68296813964844\n"
     ]
    }
   ],
   "source": [
    "#2\n",
    "high_has = has['Adj Close'].max()\n",
    "print(f'Highest price on Adj Close for has is : {high_has}')\n",
    "low_has = has['Adj Close'].min()\n",
    "print(f'Lowest price on Adj Close for has is : {low_has}')\n",
    "\n",
    "high_lnc = lnc['Adj Close'].max()\n",
    "print(f'Highest price on Adj Close for lnc is : {high_lnc}')\n",
    "low_lnc = lnc['Adj Close'].min()\n",
    "print(f'Lowest price on Adj Close for lnc is : {low_lnc}')\n",
    "\n",
    "high_mar = mar['Adj Close'].max()\n",
    "print(f'Highest price on Adj Close for mar is : {high_mar}')\n",
    "low_mar = mar['Adj Close'].min()\n",
    "print(f'Lowest price on Adj Close for mar is : {low_mar}')\n",
    "\n",
    "high_tsla = tsla['Adj Close'].max()\n",
    "print(f'Highest price on Adj Close for tsla is : {high_tsla}')\n",
    "low_tsla = tsla['Adj Close'].min()\n",
    "print(f'Lowest price on Adj Close for tsla is : {low_tsla}')\n",
    "\n",
    "high_ups = ups['Adj Close'].max()\n",
    "print(f'Highest price on Adj Close for ups is : {high_ups}')\n",
    "low_ups = ups['Adj Close'].min()\n",
    "print(f'Lowest price on Adj Close for ups is : {low_ups}')\n",
    "\n"
   ]
  },
  {
   "cell_type": "code",
   "execution_count": null,
   "metadata": {},
   "outputs": [],
   "source": [
    "#3"
   ]
  },
  {
   "cell_type": "code",
   "execution_count": null,
   "metadata": {},
   "outputs": [],
   "source": [
    "#4\n"
   ]
  },
  {
   "cell_type": "code",
   "execution_count": null,
   "metadata": {},
   "outputs": [],
   "source": []
  },
  {
   "cell_type": "code",
   "execution_count": null,
   "metadata": {},
   "outputs": [],
   "source": []
  },
  {
   "cell_type": "code",
   "execution_count": null,
   "metadata": {},
   "outputs": [],
   "source": []
  },
  {
   "cell_type": "code",
   "execution_count": null,
   "metadata": {},
   "outputs": [],
   "source": []
  },
  {
   "cell_type": "code",
   "execution_count": 59,
   "metadata": {},
   "outputs": [
    {
     "data": {
      "text/plain": [
       "Index(['Symbol', 'Security', 'GICS_Sector', 'hq', 'included', 'Founded'], dtype='object')"
      ]
     },
     "execution_count": 59,
     "metadata": {},
     "output_type": "execute_result"
    }
   ],
   "source": [
    "#Part 2\n",
    "sp500 = pd.read_csv(r'C:\\Users\\bruch\\Desktop\\companies_no_subindustry.csv')\n",
    "sp500.head # Checking that the data loaded + Basic understanding about what the data\n",
    "sp500.columns"
   ]
  },
  {
   "cell_type": "code",
   "execution_count": 57,
   "metadata": {},
   "outputs": [
    {
     "data": {
      "text/plain": [
       "45"
      ]
     },
     "execution_count": 57,
     "metadata": {},
     "output_type": "execute_result"
    }
   ],
   "source": [
    " #1 \n",
    "sp500['included'].isnull().sum()"
   ]
  },
  {
   "cell_type": "code",
   "execution_count": null,
   "metadata": {},
   "outputs": [],
   "source": [
    "#2\n",
    "date = pd.to_datetime('now')\n",
    "sp500['age'] = (date - sp500['Founded']).dt.days"
   ]
  },
  {
   "cell_type": "code",
   "execution_count": 71,
   "metadata": {},
   "outputs": [
    {
     "data": {
      "image/png": "[encoded data removed]",
      "text/plain": [
       "<Figure size 1200x600 with 1 Axes>"
      ]
     },
     "metadata": {},
     "output_type": "display_data"
    }
   ],
   "source": [
    "#3\n",
    "sector = sp500['GICS_Sector'].value_counts()\n",
    "plt.figure(figsize=(12,6))\n",
    "plt.pie(sector, labels=sector)\n",
    "plt.show()"
   ]
  },
  {
   "cell_type": "code",
   "execution_count": 72,
   "metadata": {},
   "outputs": [
    {
     "data": {
      "text/plain": [
       "<bound method StringMethods.split of <pandas.core.strings.accessor.StringMethods object at 0x000001A219BB9850>>"
      ]
     },
     "execution_count": 72,
     "metadata": {},
     "output_type": "execute_result"
    }
   ],
   "source": [
    "#4\n",
    "new = sp500['hq'].str.split\n",
    "new"
   ]
  },
  {
   "cell_type": "code",
   "execution_count": null,
   "metadata": {},
   "outputs": [],
   "source": []
  },
  {
   "cell_type": "code",
   "execution_count": null,
   "metadata": {},
   "outputs": [],
   "source": []
  }
 ],
 "metadata": {
  "kernelspec": {
   "display_name": "Python 3",
   "language": "python",
   "name": "python3"
  },
  "language_info": {
   "codemirror_mode": {
    "name": "ipython",
    "version": 3
   },
   "file_extension": ".py",
   "mimetype": "text/x-python",
   "name": "python",
   "nbconvert_exporter": "python",
   "pygments_lexer": "ipython3",
   "version": "3.11.5"
  }
 },
 "nbformat": 4,
 "nbformat_minor": 2
}
